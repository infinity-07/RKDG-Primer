{
 "cells": [
  {
   "cell_type": "code",
   "execution_count": 1,
   "metadata": {},
   "outputs": [],
   "source": [
    "# 获取文件名，与文件名中的数字\n",
    "import os\n",
    "# 计算收敛阶\n",
    "import numpy as np\n",
    "import pandas as pd\n",
    "\n",
    "folder_path = './'  # py文件所在的文件夹路径\n",
    "\n",
    "# 获取文件夹下所有文件的文件名\n",
    "file_names = os.listdir(folder_path)\n",
    "\n",
    "# 遍历文件名，找到以 accuracy 开头且以 _N数字 结尾的文件名\n",
    "accuracy_files = []\n",
    "for file_name in file_names:\n",
    "    if file_name.startswith('accuracy') and file_name.endswith('.txt'):\n",
    "        accuracy_files.append(file_name)\n",
    "\n",
    "# 提取文件名中的数字\n",
    "numbers = []\n",
    "for file_name in accuracy_files:\n",
    "    number = file_name.split('_N')[1].split('_')[0]\n",
    "    numbers.append(number)\n",
    "\n",
    "\n",
    "\n"
   ]
  },
  {
   "cell_type": "code",
   "execution_count": 2,
   "metadata": {},
   "outputs": [],
   "source": [
    "\n",
    "# 初始化存储数据的列表\n",
    "l0_norm_list = []\n",
    "l1_norm_list = []\n",
    "l2_norm_list = []\n",
    "\n",
    "# 遍历文件路径\n",
    "for file_path in accuracy_files:\n",
    "    # 打开文件\n",
    "    with open(file_path, 'r') as file:\n",
    "        # 读取文件内容\n",
    "        content = file.read()\n",
    "        # 提取 L0 norm\n",
    "        l0_norm = content.split(\"L0 norm(rho): \")[1].split(\"\\n\")[0]\n",
    "        l0_norm_list.append(float(l0_norm))\n",
    "        # 提取 L1 norm\n",
    "        l1_norm = content.split(\"L1 norm(rho): \")[1].split(\"\\n\")[0]\n",
    "        l1_norm_list.append(float(l1_norm))\n",
    "        # 提取 L2 norm\n",
    "        l2_norm = content.split(\"L2 norm(rho): \")[1].split(\"\\n\")[0]\n",
    "        l2_norm_list.append(float(l2_norm))\n",
    "\n",
    "numbers = np.array(numbers,dtype = int)\n",
    "l0_norm_list = np.array(l0_norm_list)\n",
    "l1_norm_list = np.array(l1_norm_list)\n",
    "l2_norm_list = np.array(l2_norm_list)\n",
    "data = np.vstack((numbers,l0_norm_list,l1_norm_list,l2_norm_list)).transpose()\n",
    "data = data[np.argsort(data[:,0])]\n",
    "\n",
    "\n",
    "numbers = data[:,0]\n",
    "l0_norm_list = data[:,1]\n",
    "l1_norm_list = data[:,2]\n",
    "l2_norm_list = data[:,3]\n",
    "\n",
    "\n",
    "l0_order_list = -np.log(l0_norm_list[1:] / l0_norm_list[:-1]) / np.log(numbers[1:]/numbers[:-1])\n",
    "l1_order_list = -np.log(l1_norm_list[1:] / l1_norm_list[:-1]) / np.log(numbers[1:]/numbers[:-1])\n",
    "l2_order_list = -np.log(l2_norm_list[1:] / l2_norm_list[:-1]) / np.log(numbers[1:]/numbers[:-1])\n"
   ]
  },
  {
   "cell_type": "code",
   "execution_count": 3,
   "metadata": {},
   "outputs": [
    {
     "name": "stdout",
     "output_type": "stream",
     "text": [
      "[[5.00000000e+01 5.13719690e-06 0.00000000e+00 3.58541251e-06\n",
      "  0.00000000e+00 4.75887242e-06 0.00000000e+00]\n",
      " [6.00000000e+01 3.00991226e-06 2.93216371e+00 2.07118969e-06\n",
      "  3.00979420e+00 2.77808021e-06 2.95220514e+00]\n",
      " [7.00000000e+01 1.91098379e-06 2.94706937e+00 1.30099526e-06\n",
      "  3.01648758e+00 1.75950381e-06 2.96286902e+00]\n",
      " [8.00000000e+01 1.28743927e-06 2.95782879e+00 8.68350021e-07\n",
      "  3.02767721e+00 1.18336068e-06 2.97063794e+00]\n",
      " [9.00000000e+01 9.07861925e-07 2.96577651e+00 6.08089280e-07\n",
      "  3.02482584e+00 8.33432056e-07 2.97633286e+00]\n",
      " [1.00000000e+02 6.63803075e-07 2.97176574e+00 4.41840696e-07\n",
      "  3.03123338e+00 6.08816313e-07 2.98058128e+00]]\n"
     ]
    }
   ],
   "source": [
    "l0_order_list_revise = np.append(0,l0_order_list)\n",
    "l1_order_list_revise = np.append(0,l1_order_list)\n",
    "l2_order_list_revise = np.append(0,l2_order_list)\n",
    "\n",
    "data = np.vstack((numbers,l0_norm_list,l0_order_list_revise,l1_norm_list,l1_order_list_revise,l2_norm_list,l2_order_list_revise)).transpose()\n",
    "\n",
    "print(data)"
   ]
  },
  {
   "cell_type": "code",
   "execution_count": 4,
   "metadata": {},
   "outputs": [
    {
     "name": "stdout",
     "output_type": "stream",
     "text": [
      "       n  L0-norm-error  L0-norm-order  L1-norm-error  L1-norm-order  \\\n",
      "0   50.0   5.137197e-06       0.000000   3.585413e-06       0.000000   \n",
      "1   60.0   3.009912e-06       2.932164   2.071190e-06       3.009794   \n",
      "2   70.0   1.910984e-06       2.947069   1.300995e-06       3.016488   \n",
      "3   80.0   1.287439e-06       2.957829   8.683500e-07       3.027677   \n",
      "4   90.0   9.078619e-07       2.965777   6.080893e-07       3.024826   \n",
      "5  100.0   6.638031e-07       2.971766   4.418407e-07       3.031233   \n",
      "\n",
      "   L2-norm-error  L2-norm-order  \n",
      "0   4.758872e-06       0.000000  \n",
      "1   2.778080e-06       2.952205  \n",
      "2   1.759504e-06       2.962869  \n",
      "3   1.183361e-06       2.970638  \n",
      "4   8.334321e-07       2.976333  \n",
      "5   6.088163e-07       2.980581  \n"
     ]
    }
   ],
   "source": [
    "pd_data = pd.DataFrame(data,columns=['n', 'L0-norm-error', 'L0-norm-order', 'L1-norm-error', 'L1-norm-order', 'L2-norm-error', 'L2-norm-order'])\n",
    "\n",
    "print(pd_data)\n",
    "\n",
    "writer = pd.ExcelWriter('A.xlsx')\t\t# 写入Excel文件\n",
    "pd_data.to_excel(writer, 'page_1', header = None,index = False)\t\t# ‘page_1’是写入excel的sheet名\n",
    "writer.close()  # 这里一定要保存"
   ]
  }
 ],
 "metadata": {
  "kernelspec": {
   "display_name": "Python 3",
   "language": "python",
   "name": "python3"
  },
  "language_info": {
   "codemirror_mode": {
    "name": "ipython",
    "version": 3
   },
   "file_extension": ".py",
   "mimetype": "text/x-python",
   "name": "python",
   "nbconvert_exporter": "python",
   "pygments_lexer": "ipython3",
   "version": "3.11.1"
  },
  "orig_nbformat": 4
 },
 "nbformat": 4,
 "nbformat_minor": 2
}
